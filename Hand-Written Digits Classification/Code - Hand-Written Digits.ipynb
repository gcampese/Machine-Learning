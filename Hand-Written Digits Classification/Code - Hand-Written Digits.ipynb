{
 "cells": [
  {
   "cell_type": "code",
   "execution_count": 103,
   "metadata": {
    "collapsed": true
   },
   "outputs": [],
   "source": [
    "#Gaberial Campese\n",
    "#DATS6202 Machine Learning I\n",
    "#Assignment #4"
   ]
  },
  {
   "cell_type": "code",
   "execution_count": 104,
   "metadata": {
    "collapsed": true
   },
   "outputs": [],
   "source": [
    "#Importing libraries\n",
    "from sklearn.model_selection import train_test_split\n",
    "import pandas as pd #import pandas\n",
    "import matplotlib.pyplot as plt\n",
    "import numpy as np #import numpy\n",
    "from sklearn import preprocessing"
   ]
  },
  {
   "cell_type": "code",
   "execution_count": 105,
   "metadata": {
    "collapsed": true
   },
   "outputs": [],
   "source": [
    "#1. Use and analyze load_digits dataset\n",
    "from sklearn.datasets import load_digits #load digits dataset"
   ]
  },
  {
   "cell_type": "code",
   "execution_count": 106,
   "metadata": {
    "collapsed": true
   },
   "outputs": [],
   "source": [
    "digits = load_digits() #initialize digits"
   ]
  },
  {
   "cell_type": "code",
   "execution_count": 107,
   "metadata": {},
   "outputs": [
    {
     "data": {
      "text/plain": [
       "(1797, 64)"
      ]
     },
     "execution_count": 107,
     "metadata": {},
     "output_type": "execute_result"
    }
   ],
   "source": [
    "#Begin brief analysis\n",
    "digits.data.shape #1797 rows, 64 columns"
   ]
  },
  {
   "cell_type": "code",
   "execution_count": 108,
   "metadata": {},
   "outputs": [
    {
     "data": {
      "text/plain": [
       "dict_keys(['data', 'target', 'target_names', 'images', 'DESCR'])"
      ]
     },
     "execution_count": 108,
     "metadata": {},
     "output_type": "execute_result"
    }
   ],
   "source": [
    "digits.keys()"
   ]
  },
  {
   "cell_type": "code",
   "execution_count": 109,
   "metadata": {},
   "outputs": [
    {
     "data": {
      "text/plain": [
       "array([0, 1, 2, ..., 8, 9, 8])"
      ]
     },
     "execution_count": 109,
     "metadata": {},
     "output_type": "execute_result"
    }
   ],
   "source": [
    "digits.target"
   ]
  },
  {
   "cell_type": "code",
   "execution_count": 110,
   "metadata": {},
   "outputs": [
    {
     "data": {
      "text/plain": [
       "\"Optical Recognition of Handwritten Digits Data Set\\n===================================================\\n\\nNotes\\n-----\\nData Set Characteristics:\\n    :Number of Instances: 5620\\n    :Number of Attributes: 64\\n    :Attribute Information: 8x8 image of integer pixels in the range 0..16.\\n    :Missing Attribute Values: None\\n    :Creator: E. Alpaydin (alpaydin '@' boun.edu.tr)\\n    :Date: July; 1998\\n\\nThis is a copy of the test set of the UCI ML hand-written digits datasets\\nhttp://archive.ics.uci.edu/ml/datasets/Optical+Recognition+of+Handwritten+Digits\\n\\nThe data set contains images of hand-written digits: 10 classes where\\neach class refers to a digit.\\n\\nPreprocessing programs made available by NIST were used to extract\\nnormalized bitmaps of handwritten digits from a preprinted form. From a\\ntotal of 43 people, 30 contributed to the training set and different 13\\nto the test set. 32x32 bitmaps are divided into nonoverlapping blocks of\\n4x4 and the number of on pixels are counted in each block. This generates\\nan input matrix of 8x8 where each element is an integer in the range\\n0..16. This reduces dimensionality and gives invariance to small\\ndistortions.\\n\\nFor info on NIST preprocessing routines, see M. D. Garris, J. L. Blue, G.\\nT. Candela, D. L. Dimmick, J. Geist, P. J. Grother, S. A. Janet, and C.\\nL. Wilson, NIST Form-Based Handprint Recognition System, NISTIR 5469,\\n1994.\\n\\nReferences\\n----------\\n  - C. Kaynak (1995) Methods of Combining Multiple Classifiers and Their\\n    Applications to Handwritten Digit Recognition, MSc Thesis, Institute of\\n    Graduate Studies in Science and Engineering, Bogazici University.\\n  - E. Alpaydin, C. Kaynak (1998) Cascading Classifiers, Kybernetika.\\n  - Ken Tang and Ponnuthurai N. Suganthan and Xi Yao and A. Kai Qin.\\n    Linear dimensionalityreduction using relevance weighted LDA. School of\\n    Electrical and Electronic Engineering Nanyang Technological University.\\n    2005.\\n  - Claudio Gentile. A New Approximate Maximal Margin Classification\\n    Algorithm. NIPS. 2000.\\n\""
      ]
     },
     "execution_count": 110,
     "metadata": {},
     "output_type": "execute_result"
    }
   ],
   "source": [
    "digits.DESCR"
   ]
  },
  {
   "cell_type": "code",
   "execution_count": 111,
   "metadata": {},
   "outputs": [
    {
     "data": {
      "text/plain": [
       "2.8284271247461903"
      ]
     },
     "execution_count": 111,
     "metadata": {},
     "output_type": "execute_result"
    }
   ],
   "source": [
    "import statistics\n",
    "statistics.stdev(digits.target) #standard deviation on target"
   ]
  },
  {
   "cell_type": "code",
   "execution_count": 112,
   "metadata": {},
   "outputs": [
    {
     "data": {
      "text/plain": [
       "4"
      ]
     },
     "execution_count": 112,
     "metadata": {},
     "output_type": "execute_result"
    }
   ],
   "source": [
    "statistics.mean(digits.target) #mean"
   ]
  },
  {
   "cell_type": "code",
   "execution_count": 113,
   "metadata": {
    "collapsed": true
   },
   "outputs": [],
   "source": [
    "#2. Normalize the data set by MinMaxScaler\n",
    "MinMaxScaler = preprocessing.MinMaxScaler() #load MinMax Scaler"
   ]
  },
  {
   "cell_type": "code",
   "execution_count": 114,
   "metadata": {
    "collapsed": true
   },
   "outputs": [],
   "source": [
    "digits.data = MinMaxScaler.fit_transform(digits.data) #using MinMaxScaler on dataset"
   ]
  },
  {
   "cell_type": "code",
   "execution_count": 115,
   "metadata": {},
   "outputs": [
    {
     "data": {
      "text/plain": [
       "array([[ 0.    ,  0.    ,  0.3125, ...,  0.    ,  0.    ,  0.    ],\n",
       "       [ 0.    ,  0.    ,  0.    , ...,  0.625 ,  0.    ,  0.    ],\n",
       "       [ 0.    ,  0.    ,  0.    , ...,  1.    ,  0.5625,  0.    ],\n",
       "       ..., \n",
       "       [ 0.    ,  0.    ,  0.0625, ...,  0.375 ,  0.    ,  0.    ],\n",
       "       [ 0.    ,  0.    ,  0.125 , ...,  0.75  ,  0.    ,  0.    ],\n",
       "       [ 0.    ,  0.    ,  0.625 , ...,  0.75  ,  0.0625,  0.    ]])"
      ]
     },
     "execution_count": 115,
     "metadata": {},
     "output_type": "execute_result"
    }
   ],
   "source": [
    "digits.data #We see MinMaxScaler working... all values between 0-1"
   ]
  },
  {
   "cell_type": "code",
   "execution_count": 116,
   "metadata": {
    "collapsed": true
   },
   "outputs": [],
   "source": [
    "X, y = np.array(digits.data), digits.target #initialize X, y"
   ]
  },
  {
   "cell_type": "code",
   "execution_count": 117,
   "metadata": {
    "collapsed": true
   },
   "outputs": [],
   "source": [
    "#split into test/train\n",
    "X_train, X_test, y_train, y_test = train_test_split(X, y, test_size=0.2, random_state=42)"
   ]
  },
  {
   "cell_type": "code",
   "execution_count": 118,
   "metadata": {},
   "outputs": [
    {
     "data": {
      "text/plain": [
       "(1437, 64)"
      ]
     },
     "execution_count": 118,
     "metadata": {},
     "output_type": "execute_result"
    }
   ],
   "source": [
    "X_train.shape #good to check"
   ]
  },
  {
   "cell_type": "code",
   "execution_count": 119,
   "metadata": {},
   "outputs": [
    {
     "data": {
      "text/plain": [
       "array([[ 0.    ,  0.    ,  0.3125, ...,  0.    ,  0.    ,  0.    ],\n",
       "       [ 0.    ,  0.    ,  0.    , ...,  0.625 ,  0.    ,  0.    ],\n",
       "       [ 0.    ,  0.    ,  0.    , ...,  1.    ,  0.5625,  0.    ],\n",
       "       ..., \n",
       "       [ 0.    ,  0.    ,  0.0625, ...,  0.375 ,  0.    ,  0.    ],\n",
       "       [ 0.    ,  0.    ,  0.125 , ...,  0.75  ,  0.    ,  0.    ],\n",
       "       [ 0.    ,  0.    ,  0.625 , ...,  0.75  ,  0.0625,  0.    ]])"
      ]
     },
     "execution_count": 119,
     "metadata": {},
     "output_type": "execute_result"
    }
   ],
   "source": [
    "X"
   ]
  },
  {
   "cell_type": "code",
   "execution_count": 120,
   "metadata": {
    "collapsed": true
   },
   "outputs": [],
   "source": [
    "#3. Train following classifiers on the dataset\n",
    "#a. kNN\n",
    "#b. Naïve Bayes\n",
    "#c. Random Forest\n",
    "\n",
    "#4. For each classifier show:\n",
    "#a. training score\n",
    "#b. test score"
   ]
  },
  {
   "cell_type": "code",
   "execution_count": 121,
   "metadata": {},
   "outputs": [
    {
     "data": {
      "text/plain": [
       "KNeighborsClassifier(algorithm='auto', leaf_size=30, metric='minkowski',\n",
       "           metric_params=None, n_jobs=1, n_neighbors=5, p=2,\n",
       "           weights='uniform')"
      ]
     },
     "execution_count": 121,
     "metadata": {},
     "output_type": "execute_result"
    }
   ],
   "source": [
    "#kNN Classifier\n",
    "from sklearn.neighbors import KNeighborsClassifier #import kNN Classifier\n",
    "kNNClassifier = KNeighborsClassifier()\n",
    "kNNClassifier.fit(X_train, y_train) #train kNN on dataset"
   ]
  },
  {
   "cell_type": "code",
   "execution_count": 122,
   "metadata": {},
   "outputs": [
    {
     "name": "stdout",
     "output_type": "stream",
     "text": [
      "Training score: 0.990\n",
      "Test score: 0.986\n"
     ]
    }
   ],
   "source": [
    "#kNN Training & Test Scores\n",
    "print(\"Training score: {:.3f}\".format(kNNClassifier.score(X_train, y_train))) #kNN train score\n",
    "print(\"Test score: {:.3f}\".format(kNNClassifier.score(X_test, y_test))) #kNN test score"
   ]
  },
  {
   "cell_type": "code",
   "execution_count": 123,
   "metadata": {},
   "outputs": [
    {
     "data": {
      "text/plain": [
       "GaussianNB(priors=None)"
      ]
     },
     "execution_count": 123,
     "metadata": {},
     "output_type": "execute_result"
    }
   ],
   "source": [
    "#Naive Bayes Classifier\n",
    "from sklearn.naive_bayes import GaussianNB #import Naive Bayes\n",
    "nbClassifier = GaussianNB()\n",
    "nbClassifier.fit(X_train, y_train) #train Naive Bayes on dataset"
   ]
  },
  {
   "cell_type": "code",
   "execution_count": 124,
   "metadata": {},
   "outputs": [
    {
     "name": "stdout",
     "output_type": "stream",
     "text": [
      "Training score: 0.830\n",
      "Test score: 0.833\n"
     ]
    }
   ],
   "source": [
    "#Naive Bayes Training & Test Scores\n",
    "print(\"Training score: {:.3f}\".format(nbClassifier.score(X_train, y_train))) #Naive Bayes train score\n",
    "print(\"Test score: {:.3f}\".format(nbClassifier.score(X_test, y_test))) #Naive Bayes test score"
   ]
  },
  {
   "cell_type": "code",
   "execution_count": 125,
   "metadata": {},
   "outputs": [
    {
     "data": {
      "text/plain": [
       "RandomForestClassifier(bootstrap=True, class_weight=None, criterion='gini',\n",
       "            max_depth=None, max_features='auto', max_leaf_nodes=None,\n",
       "            min_impurity_decrease=0.0, min_impurity_split=None,\n",
       "            min_samples_leaf=1, min_samples_split=2,\n",
       "            min_weight_fraction_leaf=0.0, n_estimators=100, n_jobs=1,\n",
       "            oob_score=False, random_state=None, verbose=0,\n",
       "            warm_start=False)"
      ]
     },
     "execution_count": 125,
     "metadata": {},
     "output_type": "execute_result"
    }
   ],
   "source": [
    "#Random Forest Classifier\n",
    "from sklearn.ensemble import RandomForestClassifier #import RandomForestClassifier\n",
    "rfClassifier = RandomForestClassifier(n_estimators=100)\n",
    "rfClassifier.fit(X_train, y_train) #train Random Forest Classifier on dataset"
   ]
  },
  {
   "cell_type": "code",
   "execution_count": 126,
   "metadata": {},
   "outputs": [
    {
     "name": "stdout",
     "output_type": "stream",
     "text": [
      "Training score: 1.000\n",
      "Test score: 0.978\n"
     ]
    }
   ],
   "source": [
    "#Random Forest Training & Test Scores\n",
    "print(\"Training score: {:.3f}\".format(rfClassifier.score(X_train, y_train))) #Random Forest train score\n",
    "print(\"Test score: {:.3f}\".format(rfClassifier.score(X_test, y_test))) #Random Forest test score\n",
    "#All of the scores were rounded to 3 decimal places"
   ]
  },
  {
   "cell_type": "code",
   "execution_count": 127,
   "metadata": {},
   "outputs": [
    {
     "data": {
      "text/plain": [
       "VotingClassifier(estimators=[('kNN', KNeighborsClassifier(algorithm='auto', leaf_size=30, metric='minkowski',\n",
       "           metric_params=None, n_jobs=1, n_neighbors=5, p=2,\n",
       "           weights='uniform')), ('nb', GaussianNB(priors=None)), ('rf', RandomForestClassifier(bootstrap=True, class_weight=None, criterion='gini'...n_jobs=1,\n",
       "            oob_score=False, random_state=None, verbose=0,\n",
       "            warm_start=False))],\n",
       "         flatten_transform=None, n_jobs=1, voting='hard', weights=None)"
      ]
     },
     "execution_count": 127,
     "metadata": {},
     "output_type": "execute_result"
    }
   ],
   "source": [
    "#5. Devise a majority voting classifier, you may use VotingClassifier in sklearn.ensemble package\n",
    "\n",
    "#Majority Voting Classifier\n",
    "from sklearn.ensemble import VotingClassifier #import VotingClassifier\n",
    "mvClassifier = VotingClassifier(estimators= [('kNN', kNNClassifier), ('nb', nbClassifier), ('rf', rfClassifier)], \n",
    "                                            voting='hard') #building Majority Voting Classifier\n",
    "mvClassifier.fit(X_train, y_train) #training classifier on dataset"
   ]
  },
  {
   "cell_type": "code",
   "execution_count": 128,
   "metadata": {},
   "outputs": [
    {
     "name": "stdout",
     "output_type": "stream",
     "text": [
      "Training score: 0.991\n",
      "Test score: 0.983\n"
     ]
    }
   ],
   "source": [
    "#Majority Voting Classifier Train/Test Scores\n",
    "print(\"Training score: {:.3f}\".format(mvClassifier.score(X_train, y_train))) #Voting train score\n",
    "print(\"Test score: {:.3f}\".format(mvClassifier.score(X_test, y_test))) #Voting test score"
   ]
  },
  {
   "cell_type": "code",
   "execution_count": null,
   "metadata": {
    "collapsed": true
   },
   "outputs": [],
   "source": []
  }
 ],
 "metadata": {
  "kernelspec": {
   "display_name": "Python 3",
   "language": "python",
   "name": "python3"
  },
  "language_info": {
   "codemirror_mode": {
    "name": "ipython",
    "version": 3
   },
   "file_extension": ".py",
   "mimetype": "text/x-python",
   "name": "python",
   "nbconvert_exporter": "python",
   "pygments_lexer": "ipython3",
   "version": "3.6.3"
  }
 },
 "nbformat": 4,
 "nbformat_minor": 2
}
